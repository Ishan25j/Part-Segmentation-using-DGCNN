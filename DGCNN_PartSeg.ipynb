{
  "nbformat": 4,
  "nbformat_minor": 0,
  "metadata": {
    "colab": {
      "name": "DGCNN_PartSeg",
      "provenance": [],
      "collapsed_sections": [],
      "include_colab_link": true
    },
    "kernelspec": {
      "name": "python3",
      "display_name": "Python 3"
    },
    "language_info": {
      "name": "python"
    },
    "widgets": {
      "application/vnd.jupyter.widget-state+json": {
        "468fc7c929bd4e4b8c76f62cebbb5edf": {
          "model_module": "@jupyter-widgets/controls",
          "model_name": "VBoxModel",
          "model_module_version": "1.5.0",
          "state": {
            "_dom_classes": [],
            "_model_module": "@jupyter-widgets/controls",
            "_model_module_version": "1.5.0",
            "_model_name": "VBoxModel",
            "_view_count": null,
            "_view_module": "@jupyter-widgets/controls",
            "_view_module_version": "1.5.0",
            "_view_name": "VBoxView",
            "box_style": "",
            "children": [
              "IPY_MODEL_a4a91323f7de4705a62657c70aa6f5af"
            ],
            "layout": "IPY_MODEL_31e764c06bc449188d60e0d4644ae2d7"
          }
        },
        "a4a91323f7de4705a62657c70aa6f5af": {
          "model_module": "ipyvolume",
          "model_name": "FigureModel",
          "model_module_version": "~0.5.2",
          "state": {
            "_dom_classes": [],
            "_model_module": "ipyvolume",
            "_model_module_version": "~0.5.2",
            "_model_name": "FigureModel",
            "_view_count": null,
            "_view_module": "ipyvolume",
            "_view_module_version": "~0.5.2",
            "_view_name": "FigureView",
            "ambient_coefficient": 0.5,
            "animation": 1000,
            "animation_exponent": 1,
            "camera": "IPY_MODEL_8b46a1b00190478eb4c4fdf0c74e3f32",
            "camera_center": [
              0,
              0,
              0
            ],
            "camera_control": "trackball",
            "camera_fov": 45,
            "capture_fps": null,
            "cube_resolution": 512,
            "diffuse_coefficient": 0.8,
            "displayscale": 1,
            "downscale": 1,
            "eye_separation": 6.4,
            "height": 500,
            "layout": "IPY_MODEL_c5323e35f9b846129a396aad203d9bf1",
            "matrix_projection": [
              0,
              0,
              0,
              0,
              0,
              0,
              0,
              0,
              0,
              0,
              0,
              0,
              0,
              0,
              0,
              0
            ],
            "matrix_world": [
              0.5699055172203888,
              0,
              0,
              0,
              0,
              0.7736688692834632,
              4.7373555218397264e-17,
              0,
              0,
              -3.607269911704892e-17,
              0.5891118833963251,
              0,
              -0.06990551722038879,
              -0.2736688692834633,
              -2.0891118833963254,
              1
            ],
            "meshes": [],
            "mouse_mode": "normal",
            "panorama_mode": "no",
            "render_continuous": false,
            "scatters": [
              "IPY_MODEL_cd754bba19e045b8a1de3bd7676759c0"
            ],
            "scene": "IPY_MODEL_035dc834d9a043078e01f04b6f547bdd",
            "selection_mode": "replace",
            "selector": "lasso",
            "show": "Volume",
            "specular_coefficient": 0.5,
            "specular_exponent": 5,
            "stereo": false,
            "style": {
              "axes": {
                "visible": true,
                "label": {
                  "color": "black"
                },
                "ticklabel": {
                  "color": "black"
                },
                "color": "black"
              },
              "box": {
                "visible": true
              },
              "background-color": "white"
            },
            "volumes": [],
            "width": 400,
            "xlabel": "x",
            "xlim": [
              -0.7546768188476562,
              1
            ],
            "ylabel": "y",
            "ylim": [
              -0.29254263639450073,
              1
            ],
            "zlabel": "z",
            "zlim": [
              -0.6974704265594482,
              1
            ]
          }
        },
        "31e764c06bc449188d60e0d4644ae2d7": {
          "model_module": "@jupyter-widgets/base",
          "model_name": "LayoutModel",
          "model_module_version": "1.2.0",
          "state": {
            "_model_module": "@jupyter-widgets/base",
            "_model_module_version": "1.2.0",
            "_model_name": "LayoutModel",
            "_view_count": null,
            "_view_module": "@jupyter-widgets/base",
            "_view_module_version": "1.2.0",
            "_view_name": "LayoutView",
            "align_content": null,
            "align_items": null,
            "align_self": null,
            "border": null,
            "bottom": null,
            "display": null,
            "flex": null,
            "flex_flow": null,
            "grid_area": null,
            "grid_auto_columns": null,
            "grid_auto_flow": null,
            "grid_auto_rows": null,
            "grid_column": null,
            "grid_gap": null,
            "grid_row": null,
            "grid_template_areas": null,
            "grid_template_columns": null,
            "grid_template_rows": null,
            "height": null,
            "justify_content": null,
            "justify_items": null,
            "left": null,
            "margin": null,
            "max_height": null,
            "max_width": null,
            "min_height": null,
            "min_width": null,
            "object_fit": null,
            "object_position": null,
            "order": null,
            "overflow": null,
            "overflow_x": null,
            "overflow_y": null,
            "padding": null,
            "right": null,
            "top": null,
            "visibility": null,
            "width": null
          }
        },
        "8b46a1b00190478eb4c4fdf0c74e3f32": {
          "model_module": "jupyter-threejs",
          "model_name": "PerspectiveCameraModel",
          "model_module_version": "^2.1.0",
          "state": {
            "_model_module": "jupyter-threejs",
            "_model_module_version": "^2.1.0",
            "_model_name": "PerspectiveCameraModel",
            "_view_count": null,
            "_view_module": null,
            "_view_module_version": "",
            "_view_name": null,
            "aspect": 1,
            "castShadow": false,
            "children": [],
            "far": 2000,
            "focus": 10,
            "fov": 46,
            "frustumCulled": true,
            "matrix": [
              1,
              0,
              0,
              0,
              0,
              1,
              0,
              0,
              0,
              0,
              1,
              0,
              0,
              0,
              0,
              1
            ],
            "matrixAutoUpdate": true,
            "matrixWorld": [
              1,
              0,
              0,
              0,
              0,
              1,
              0,
              0,
              0,
              0,
              1,
              0,
              0,
              0,
              0,
              1
            ],
            "matrixWorldInverse": [
              1,
              0,
              0,
              0,
              0,
              1,
              0,
              0,
              0,
              0,
              1,
              0,
              0,
              0,
              0,
              1
            ],
            "matrixWorldNeedsUpdate": false,
            "modelViewMatrix": [
              1,
              0,
              0,
              0,
              0,
              1,
              0,
              0,
              0,
              0,
              1,
              0,
              0,
              0,
              0,
              1
            ],
            "name": "",
            "near": 0.1,
            "normalMatrix": [
              1,
              0,
              0,
              0,
              1,
              0,
              0,
              0,
              1
            ],
            "position": [
              0,
              0,
              2
            ],
            "projectionMatrix": [
              2.3558523658237527,
              0,
              0,
              0,
              0,
              2.3558523658237527,
              0,
              0,
              0,
              0,
              -1.00010000500025,
              -1,
              0,
              0,
              -0.200010000500025,
              0
            ],
            "quaternion": [
              0,
              0,
              0,
              1
            ],
            "receiveShadow": false,
            "renderOrder": 0,
            "rotation": [
              0,
              0,
              0,
              "XYZ"
            ],
            "scale": [
              1,
              1,
              1
            ],
            "type": "PerspectiveCamera",
            "up": [
              0,
              1,
              0
            ],
            "visible": true,
            "zoom": 1
          }
        },
        "c5323e35f9b846129a396aad203d9bf1": {
          "model_module": "@jupyter-widgets/base",
          "model_name": "LayoutModel",
          "model_module_version": "1.2.0",
          "state": {
            "_model_module": "@jupyter-widgets/base",
            "_model_module_version": "1.2.0",
            "_model_name": "LayoutModel",
            "_view_count": null,
            "_view_module": "@jupyter-widgets/base",
            "_view_module_version": "1.2.0",
            "_view_name": "LayoutView",
            "align_content": null,
            "align_items": null,
            "align_self": null,
            "border": null,
            "bottom": null,
            "display": null,
            "flex": null,
            "flex_flow": null,
            "grid_area": null,
            "grid_auto_columns": null,
            "grid_auto_flow": null,
            "grid_auto_rows": null,
            "grid_column": null,
            "grid_gap": null,
            "grid_row": null,
            "grid_template_areas": null,
            "grid_template_columns": null,
            "grid_template_rows": null,
            "height": null,
            "justify_content": null,
            "justify_items": null,
            "left": null,
            "margin": null,
            "max_height": null,
            "max_width": null,
            "min_height": null,
            "min_width": null,
            "object_fit": null,
            "object_position": null,
            "order": null,
            "overflow": null,
            "overflow_x": null,
            "overflow_y": null,
            "padding": null,
            "right": null,
            "top": null,
            "visibility": null,
            "width": null
          }
        },
        "cd754bba19e045b8a1de3bd7676759c0": {
          "model_module": "ipyvolume",
          "model_name": "ScatterModel",
          "model_module_version": "~0.5.2",
          "state": {
            "_model_module": "ipyvolume",
            "_model_module_version": "~0.5.2",
            "_model_name": "ScatterModel",
            "_view_count": null,
            "_view_module": "ipyvolume",
            "_view_module_version": "~0.5.2",
            "_view_name": "ScatterView",
            "color": [
              {
                "dtype": "float32",
                "shape": [
                  2518,
                  4
                ]
              }
            ],
            "color_selected": "white",
            "connected": false,
            "geo": "sphere",
            "line_material": "IPY_MODEL_fd2229d69d0c40ddacc79dd36384a29b",
            "material": "IPY_MODEL_88f06ac6c9864b10b7982c32a11cf992",
            "selected": null,
            "sequence_index": 0,
            "size": 2,
            "size_selected": 2.6,
            "texture": null,
            "visible": true,
            "vx": null,
            "vy": null,
            "vz": null,
            "x": [
              {
                "dtype": "float32",
                "shape": [
                  2518
                ]
              }
            ],
            "y": [
              {
                "dtype": "float32",
                "shape": [
                  2518
                ]
              }
            ],
            "z": [
              {
                "dtype": "float32",
                "shape": [
                  2518
                ]
              }
            ]
          }
        },
        "035dc834d9a043078e01f04b6f547bdd": {
          "model_module": "jupyter-threejs",
          "model_name": "SceneModel",
          "model_module_version": "^2.1.0",
          "state": {
            "_model_module": "jupyter-threejs",
            "_model_module_version": "^2.1.0",
            "_model_name": "SceneModel",
            "_view_count": null,
            "_view_module": null,
            "_view_module_version": "",
            "_view_name": null,
            "autoUpdate": true,
            "background": null,
            "castShadow": false,
            "children": [],
            "fog": null,
            "frustumCulled": true,
            "matrix": [
              1,
              0,
              0,
              0,
              0,
              1,
              0,
              0,
              0,
              0,
              1,
              0,
              0,
              0,
              0,
              1
            ],
            "matrixAutoUpdate": true,
            "matrixWorld": [
              1,
              0,
              0,
              0,
              0,
              1,
              0,
              0,
              0,
              0,
              1,
              0,
              0,
              0,
              0,
              1
            ],
            "matrixWorldNeedsUpdate": false,
            "modelViewMatrix": [
              1,
              0,
              0,
              0,
              0,
              1,
              0,
              0,
              0,
              0,
              1,
              0,
              0,
              0,
              0,
              1
            ],
            "name": "",
            "normalMatrix": [
              1,
              0,
              0,
              0,
              1,
              0,
              0,
              0,
              1
            ],
            "overrideMaterial": null,
            "position": [
              0,
              0,
              0
            ],
            "quaternion": [
              0,
              0,
              0,
              1
            ],
            "receiveShadow": false,
            "renderOrder": 0,
            "rotation": [
              0,
              0,
              0,
              "XYZ"
            ],
            "scale": [
              1,
              1,
              1
            ],
            "type": "Scene",
            "up": [
              0,
              1,
              0
            ],
            "visible": true
          }
        },
        "fd2229d69d0c40ddacc79dd36384a29b": {
          "model_module": "jupyter-threejs",
          "model_name": "ShaderMaterialModel",
          "model_module_version": "^2.1.0",
          "state": {
            "_model_module": "jupyter-threejs",
            "_model_module_version": "^2.1.0",
            "_model_name": "ShaderMaterialModel",
            "_view_count": null,
            "_view_module": null,
            "_view_module_version": "",
            "_view_name": null,
            "alphaTest": 0,
            "blendDst": "OneMinusSrcAlphaFactor",
            "blendDstAlpha": 0,
            "blendEquation": "AddEquation",
            "blendEquationAlpha": 0,
            "blendSrc": "SrcAlphaFactor",
            "blendSrcAlpha": 0,
            "blending": "NormalBlending",
            "clipIntersection": false,
            "clipShadows": false,
            "clipping": false,
            "clippingPlanes": [],
            "colorWrite": true,
            "defines": null,
            "depthFunc": "LessEqualDepth",
            "depthTest": true,
            "depthWrite": true,
            "dithering": false,
            "extensions": {},
            "flatShading": false,
            "fog": false,
            "fragmentShader": "",
            "lights": false,
            "linewidth": 1,
            "morphNormals": false,
            "morphTargets": false,
            "name": "",
            "opacity": 1,
            "overdraw": 0,
            "polygonOffset": false,
            "polygonOffsetFactor": 0,
            "polygonOffsetUnits": 0,
            "precision": null,
            "premultipliedAlpha": false,
            "shadowSide": null,
            "side": "FrontSide",
            "skinning": false,
            "transparent": false,
            "type": "ShaderMaterial",
            "uniforms": {},
            "uniformsNeedUpdate": false,
            "vertexColors": "NoColors",
            "vertexShader": "",
            "visible": true,
            "wireframe": false,
            "wireframeLinewidth": 1
          }
        },
        "88f06ac6c9864b10b7982c32a11cf992": {
          "model_module": "jupyter-threejs",
          "model_name": "ShaderMaterialModel",
          "model_module_version": "^2.1.0",
          "state": {
            "_model_module": "jupyter-threejs",
            "_model_module_version": "^2.1.0",
            "_model_name": "ShaderMaterialModel",
            "_view_count": null,
            "_view_module": null,
            "_view_module_version": "",
            "_view_name": null,
            "alphaTest": 0,
            "blendDst": "OneMinusSrcAlphaFactor",
            "blendDstAlpha": 0,
            "blendEquation": "AddEquation",
            "blendEquationAlpha": 0,
            "blendSrc": "SrcAlphaFactor",
            "blendSrcAlpha": 0,
            "blending": "NormalBlending",
            "clipIntersection": false,
            "clipShadows": false,
            "clipping": false,
            "clippingPlanes": [],
            "colorWrite": true,
            "defines": null,
            "depthFunc": "LessEqualDepth",
            "depthTest": true,
            "depthWrite": true,
            "dithering": false,
            "extensions": {},
            "flatShading": false,
            "fog": false,
            "fragmentShader": "",
            "lights": false,
            "linewidth": 1,
            "morphNormals": false,
            "morphTargets": false,
            "name": "",
            "opacity": 1,
            "overdraw": 0,
            "polygonOffset": false,
            "polygonOffsetFactor": 0,
            "polygonOffsetUnits": 0,
            "precision": null,
            "premultipliedAlpha": false,
            "shadowSide": null,
            "side": "FrontSide",
            "skinning": false,
            "transparent": false,
            "type": "ShaderMaterial",
            "uniforms": {},
            "uniformsNeedUpdate": false,
            "vertexColors": "NoColors",
            "vertexShader": "",
            "visible": true,
            "wireframe": false,
            "wireframeLinewidth": 1
          }
        }
      }
    },
    "accelerator": "GPU"
  },
  "cells": [
    {
      "cell_type": "markdown",
      "metadata": {
        "id": "view-in-github",
        "colab_type": "text"
      },
      "source": [
        "<a href=\"https://colab.research.google.com/github/Ishan25j/Part-Segmentation-using-DGCNN/blob/main/DGCNN_PartSeg.ipynb\" target=\"_parent\"><img src=\"https://colab.research.google.com/assets/colab-badge.svg\" alt=\"Open In Colab\"/></a>"
      ]
    },
    {
      "cell_type": "code",
      "source": [
        "from google.colab import drive\n",
        "drive.mount('/content/drive')"
      ],
      "metadata": {
        "colab": {
          "base_uri": "https://localhost:8080/"
        },
        "id": "Wp2Rlex7GU2T",
        "outputId": "eb8763f6-4982-4da6-87af-4ad868065ff2"
      },
      "execution_count": 2,
      "outputs": [
        {
          "output_type": "stream",
          "name": "stdout",
          "text": [
            "Mounted at /content/drive\n"
          ]
        }
      ]
    },
    {
      "cell_type": "code",
      "execution_count": 1,
      "metadata": {
        "id": "tgBoY7eQELqM",
        "colab": {
          "base_uri": "https://localhost:8080/"
        },
        "outputId": "85bbc5ca-329b-4e91-8dc7-b6fea88cdc1d"
      },
      "outputs": [
        {
          "output_type": "stream",
          "name": "stdout",
          "text": [
            "1.11.0+cu113\n",
            "\u001b[K     |████████████████████████████████| 7.9 MB 7.7 MB/s \n",
            "\u001b[K     |████████████████████████████████| 3.5 MB 8.3 MB/s \n",
            "\u001b[K     |████████████████████████████████| 2.5 MB 8.2 MB/s \n",
            "\u001b[?25h  Building wheel for torch-geometric (setup.py) ... \u001b[?25l\u001b[?25hdone\n",
            "Looking in indexes: https://pypi.org/simple, https://us-python.pkg.dev/colab-wheels/public/simple/\n",
            "Collecting ipyvolume\n",
            "  Downloading ipyvolume-0.5.2-py2.py3-none-any.whl (2.9 MB)\n",
            "\u001b[K     |████████████████████████████████| 2.9 MB 11.9 MB/s \n",
            "\u001b[?25hRequirement already satisfied: traitlets in /usr/local/lib/python3.7/dist-packages (from ipyvolume) (5.1.1)\n",
            "Requirement already satisfied: numpy in /usr/local/lib/python3.7/dist-packages (from ipyvolume) (1.21.6)\n",
            "Collecting ipywebrtc\n",
            "  Downloading ipywebrtc-0.6.0-py2.py3-none-any.whl (260 kB)\n",
            "\u001b[K     |████████████████████████████████| 260 kB 69.6 MB/s \n",
            "\u001b[?25hRequirement already satisfied: requests in /usr/local/lib/python3.7/dist-packages (from ipyvolume) (2.23.0)\n",
            "Requirement already satisfied: Pillow in /usr/local/lib/python3.7/dist-packages (from ipyvolume) (7.1.2)\n",
            "Collecting traittypes\n",
            "  Downloading traittypes-0.2.1-py2.py3-none-any.whl (8.6 kB)\n",
            "Collecting pythreejs>=1.0.0\n",
            "  Downloading pythreejs-2.3.0-py2.py3-none-any.whl (3.4 MB)\n",
            "\u001b[K     |████████████████████████████████| 3.4 MB 56.4 MB/s \n",
            "\u001b[?25hRequirement already satisfied: ipywidgets>=7.5 in /usr/local/lib/python3.7/dist-packages (from ipyvolume) (7.7.0)\n",
            "Requirement already satisfied: widgetsnbextension~=3.6.0 in /usr/local/lib/python3.7/dist-packages (from ipywidgets>=7.5->ipyvolume) (3.6.0)\n",
            "Requirement already satisfied: ipython-genutils~=0.2.0 in /usr/local/lib/python3.7/dist-packages (from ipywidgets>=7.5->ipyvolume) (0.2.0)\n",
            "Requirement already satisfied: ipython>=4.0.0 in /usr/local/lib/python3.7/dist-packages (from ipywidgets>=7.5->ipyvolume) (5.5.0)\n",
            "Requirement already satisfied: jupyterlab-widgets>=1.0.0 in /usr/local/lib/python3.7/dist-packages (from ipywidgets>=7.5->ipyvolume) (1.1.0)\n",
            "Requirement already satisfied: ipykernel>=4.5.1 in /usr/local/lib/python3.7/dist-packages (from ipywidgets>=7.5->ipyvolume) (4.10.1)\n",
            "Requirement already satisfied: nbformat>=4.2.0 in /usr/local/lib/python3.7/dist-packages (from ipywidgets>=7.5->ipyvolume) (5.4.0)\n",
            "Requirement already satisfied: jupyter-client in /usr/local/lib/python3.7/dist-packages (from ipykernel>=4.5.1->ipywidgets>=7.5->ipyvolume) (5.3.5)\n",
            "Requirement already satisfied: tornado>=4.0 in /usr/local/lib/python3.7/dist-packages (from ipykernel>=4.5.1->ipywidgets>=7.5->ipyvolume) (5.1.1)\n",
            "Requirement already satisfied: pickleshare in /usr/local/lib/python3.7/dist-packages (from ipython>=4.0.0->ipywidgets>=7.5->ipyvolume) (0.7.5)\n",
            "Requirement already satisfied: pexpect in /usr/local/lib/python3.7/dist-packages (from ipython>=4.0.0->ipywidgets>=7.5->ipyvolume) (4.8.0)\n",
            "Requirement already satisfied: decorator in /usr/local/lib/python3.7/dist-packages (from ipython>=4.0.0->ipywidgets>=7.5->ipyvolume) (4.4.2)\n",
            "Requirement already satisfied: pygments in /usr/local/lib/python3.7/dist-packages (from ipython>=4.0.0->ipywidgets>=7.5->ipyvolume) (2.6.1)\n",
            "Requirement already satisfied: prompt-toolkit<2.0.0,>=1.0.4 in /usr/local/lib/python3.7/dist-packages (from ipython>=4.0.0->ipywidgets>=7.5->ipyvolume) (1.0.18)\n",
            "Requirement already satisfied: setuptools>=18.5 in /usr/local/lib/python3.7/dist-packages (from ipython>=4.0.0->ipywidgets>=7.5->ipyvolume) (57.4.0)\n",
            "Requirement already satisfied: simplegeneric>0.8 in /usr/local/lib/python3.7/dist-packages (from ipython>=4.0.0->ipywidgets>=7.5->ipyvolume) (0.8.1)\n",
            "Requirement already satisfied: jsonschema>=2.6 in /usr/local/lib/python3.7/dist-packages (from nbformat>=4.2.0->ipywidgets>=7.5->ipyvolume) (4.3.3)\n",
            "Requirement already satisfied: fastjsonschema in /usr/local/lib/python3.7/dist-packages (from nbformat>=4.2.0->ipywidgets>=7.5->ipyvolume) (2.15.3)\n",
            "Requirement already satisfied: jupyter-core in /usr/local/lib/python3.7/dist-packages (from nbformat>=4.2.0->ipywidgets>=7.5->ipyvolume) (4.10.0)\n",
            "Requirement already satisfied: attrs>=17.4.0 in /usr/local/lib/python3.7/dist-packages (from jsonschema>=2.6->nbformat>=4.2.0->ipywidgets>=7.5->ipyvolume) (21.4.0)\n",
            "Requirement already satisfied: importlib-resources>=1.4.0 in /usr/local/lib/python3.7/dist-packages (from jsonschema>=2.6->nbformat>=4.2.0->ipywidgets>=7.5->ipyvolume) (5.7.1)\n",
            "Requirement already satisfied: pyrsistent!=0.17.0,!=0.17.1,!=0.17.2,>=0.14.0 in /usr/local/lib/python3.7/dist-packages (from jsonschema>=2.6->nbformat>=4.2.0->ipywidgets>=7.5->ipyvolume) (0.18.1)\n",
            "Requirement already satisfied: importlib-metadata in /usr/local/lib/python3.7/dist-packages (from jsonschema>=2.6->nbformat>=4.2.0->ipywidgets>=7.5->ipyvolume) (4.11.4)\n",
            "Requirement already satisfied: typing-extensions in /usr/local/lib/python3.7/dist-packages (from jsonschema>=2.6->nbformat>=4.2.0->ipywidgets>=7.5->ipyvolume) (4.2.0)\n",
            "Requirement already satisfied: zipp>=3.1.0 in /usr/local/lib/python3.7/dist-packages (from importlib-resources>=1.4.0->jsonschema>=2.6->nbformat>=4.2.0->ipywidgets>=7.5->ipyvolume) (3.8.0)\n",
            "Requirement already satisfied: wcwidth in /usr/local/lib/python3.7/dist-packages (from prompt-toolkit<2.0.0,>=1.0.4->ipython>=4.0.0->ipywidgets>=7.5->ipyvolume) (0.2.5)\n",
            "Requirement already satisfied: six>=1.9.0 in /usr/local/lib/python3.7/dist-packages (from prompt-toolkit<2.0.0,>=1.0.4->ipython>=4.0.0->ipywidgets>=7.5->ipyvolume) (1.15.0)\n",
            "Collecting ipydatawidgets>=1.1.1\n",
            "  Downloading ipydatawidgets-4.3.1.post1-py2.py3-none-any.whl (271 kB)\n",
            "\u001b[K     |████████████████████████████████| 271 kB 67.1 MB/s \n",
            "\u001b[?25hRequirement already satisfied: notebook>=4.4.1 in /usr/local/lib/python3.7/dist-packages (from widgetsnbextension~=3.6.0->ipywidgets>=7.5->ipyvolume) (5.3.1)\n",
            "Requirement already satisfied: terminado>=0.8.1 in /usr/local/lib/python3.7/dist-packages (from notebook>=4.4.1->widgetsnbextension~=3.6.0->ipywidgets>=7.5->ipyvolume) (0.13.3)\n",
            "Requirement already satisfied: Send2Trash in /usr/local/lib/python3.7/dist-packages (from notebook>=4.4.1->widgetsnbextension~=3.6.0->ipywidgets>=7.5->ipyvolume) (1.8.0)\n",
            "Requirement already satisfied: nbconvert in /usr/local/lib/python3.7/dist-packages (from notebook>=4.4.1->widgetsnbextension~=3.6.0->ipywidgets>=7.5->ipyvolume) (5.6.1)\n",
            "Requirement already satisfied: jinja2 in /usr/local/lib/python3.7/dist-packages (from notebook>=4.4.1->widgetsnbextension~=3.6.0->ipywidgets>=7.5->ipyvolume) (2.11.3)\n",
            "Requirement already satisfied: python-dateutil>=2.1 in /usr/local/lib/python3.7/dist-packages (from jupyter-client->ipykernel>=4.5.1->ipywidgets>=7.5->ipyvolume) (2.8.2)\n",
            "Requirement already satisfied: pyzmq>=13 in /usr/local/lib/python3.7/dist-packages (from jupyter-client->ipykernel>=4.5.1->ipywidgets>=7.5->ipyvolume) (23.0.0)\n",
            "Requirement already satisfied: ptyprocess in /usr/local/lib/python3.7/dist-packages (from terminado>=0.8.1->notebook>=4.4.1->widgetsnbextension~=3.6.0->ipywidgets>=7.5->ipyvolume) (0.7.0)\n",
            "Requirement already satisfied: MarkupSafe>=0.23 in /usr/local/lib/python3.7/dist-packages (from jinja2->notebook>=4.4.1->widgetsnbextension~=3.6.0->ipywidgets>=7.5->ipyvolume) (2.0.1)\n",
            "Requirement already satisfied: pandocfilters>=1.4.1 in /usr/local/lib/python3.7/dist-packages (from nbconvert->notebook>=4.4.1->widgetsnbextension~=3.6.0->ipywidgets>=7.5->ipyvolume) (1.5.0)\n",
            "Requirement already satisfied: defusedxml in /usr/local/lib/python3.7/dist-packages (from nbconvert->notebook>=4.4.1->widgetsnbextension~=3.6.0->ipywidgets>=7.5->ipyvolume) (0.7.1)\n",
            "Requirement already satisfied: entrypoints>=0.2.2 in /usr/local/lib/python3.7/dist-packages (from nbconvert->notebook>=4.4.1->widgetsnbextension~=3.6.0->ipywidgets>=7.5->ipyvolume) (0.4)\n",
            "Requirement already satisfied: mistune<2,>=0.8.1 in /usr/local/lib/python3.7/dist-packages (from nbconvert->notebook>=4.4.1->widgetsnbextension~=3.6.0->ipywidgets>=7.5->ipyvolume) (0.8.4)\n",
            "Requirement already satisfied: bleach in /usr/local/lib/python3.7/dist-packages (from nbconvert->notebook>=4.4.1->widgetsnbextension~=3.6.0->ipywidgets>=7.5->ipyvolume) (5.0.0)\n",
            "Requirement already satisfied: testpath in /usr/local/lib/python3.7/dist-packages (from nbconvert->notebook>=4.4.1->widgetsnbextension~=3.6.0->ipywidgets>=7.5->ipyvolume) (0.6.0)\n",
            "Requirement already satisfied: webencodings in /usr/local/lib/python3.7/dist-packages (from bleach->nbconvert->notebook>=4.4.1->widgetsnbextension~=3.6.0->ipywidgets>=7.5->ipyvolume) (0.5.1)\n",
            "Requirement already satisfied: chardet<4,>=3.0.2 in /usr/local/lib/python3.7/dist-packages (from requests->ipyvolume) (3.0.4)\n",
            "Requirement already satisfied: idna<3,>=2.5 in /usr/local/lib/python3.7/dist-packages (from requests->ipyvolume) (2.10)\n",
            "Requirement already satisfied: urllib3!=1.25.0,!=1.25.1,<1.26,>=1.21.1 in /usr/local/lib/python3.7/dist-packages (from requests->ipyvolume) (1.24.3)\n",
            "Requirement already satisfied: certifi>=2017.4.17 in /usr/local/lib/python3.7/dist-packages (from requests->ipyvolume) (2022.5.18.1)\n",
            "Installing collected packages: traittypes, ipydatawidgets, pythreejs, ipywebrtc, ipyvolume\n",
            "Successfully installed ipydatawidgets-4.3.1.post1 ipyvolume-0.5.2 ipywebrtc-0.6.0 pythreejs-2.3.0 traittypes-0.2.1\n",
            "Looking in indexes: https://pypi.org/simple, https://us-python.pkg.dev/colab-wheels/public/simple/\n",
            "Collecting torchmetrics\n",
            "  Downloading torchmetrics-0.9.1-py3-none-any.whl (419 kB)\n",
            "\u001b[K     |████████████████████████████████| 419 kB 8.0 MB/s \n",
            "\u001b[?25hRequirement already satisfied: typing-extensions in /usr/local/lib/python3.7/dist-packages (from torchmetrics) (4.2.0)\n",
            "Requirement already satisfied: packaging in /usr/local/lib/python3.7/dist-packages (from torchmetrics) (21.3)\n",
            "Requirement already satisfied: torch>=1.3.1 in /usr/local/lib/python3.7/dist-packages (from torchmetrics) (1.11.0+cu113)\n",
            "Requirement already satisfied: numpy>=1.17.2 in /usr/local/lib/python3.7/dist-packages (from torchmetrics) (1.21.6)\n",
            "Requirement already satisfied: pyparsing!=3.0.5,>=2.0.2 in /usr/local/lib/python3.7/dist-packages (from packaging->torchmetrics) (3.0.9)\n",
            "Installing collected packages: torchmetrics\n",
            "Successfully installed torchmetrics-0.9.1\n"
          ]
        }
      ],
      "source": [
        "# Install required packages.\n",
        "import os\n",
        "import torch\n",
        "os.environ['TORCH'] = torch.__version__\n",
        "print(torch.__version__)\n",
        "\n",
        "!pip install -q torch-scatter -f https://data.pyg.org/whl/torch-${TORCH}.html\n",
        "!pip install -q torch-sparse -f https://data.pyg.org/whl/torch-${TORCH}.html\n",
        "!pip install -q torch-cluster -f https://data.pyg.org/whl/torch-${TORCH}.html\n",
        "!pip install -q git+https://github.com/pyg-team/pytorch_geometric.git\n",
        "!pip install ipyvolume\n",
        "!pip install torchmetrics"
      ]
    },
    {
      "cell_type": "code",
      "source": [
        ""
      ],
      "metadata": {
        "id": "H-WoNXriEXVL"
      },
      "execution_count": 3,
      "outputs": []
    },
    {
      "cell_type": "markdown",
      "source": [
        "Setup external visualization tools and import relevant packages"
      ],
      "metadata": {
        "id": "hKOmfx9J-gmE"
      }
    },
    {
      "cell_type": "code",
      "source": [
        "from google.colab import output\n",
        "output.enable_custom_widget_manager()"
      ],
      "metadata": {
        "id": "I2eOHeY789zl"
      },
      "execution_count": 3,
      "outputs": []
    },
    {
      "cell_type": "code",
      "source": [
        "import os.path as osp\n",
        "import numpy as np\n",
        "import ipyvolume as ipv\n",
        "import matplotlib.pyplot as plt\n",
        "import seaborn as sns\n",
        "%matplotlib inline\n",
        "import matplotlib.cm as cm\n",
        "import matplotlib as mpl\n",
        "\n",
        "\n",
        "import torch\n",
        "import torch.nn.functional as F\n",
        "from torch_scatter import scatter\n",
        "from torchmetrics.functional import jaccard_index\n",
        "\n",
        "import torch_geometric.transforms as T\n",
        "from torch_geometric.datasets import ShapeNet\n",
        "from torch_geometric.loader import DataLoader\n",
        "from torch_geometric.nn import MLP, DynamicEdgeConv"
      ],
      "metadata": {
        "id": "xS0a89xyKs0r"
      },
      "execution_count": 4,
      "outputs": []
    },
    {
      "cell_type": "markdown",
      "source": [
        "Get the dataset.\n",
        "\n",
        "> Make sure the google drive is mounted"
      ],
      "metadata": {
        "id": "HRGEVsH_-oQs"
      }
    },
    {
      "cell_type": "code",
      "source": [
        "data_root = \"/content/drive/MyDrive/datasets/\""
      ],
      "metadata": {
        "id": "glo28EYJK0ak"
      },
      "execution_count": 5,
      "outputs": []
    },
    {
      "cell_type": "code",
      "source": [
        "path = osp.join(data_root, 'ShapeNet')\n",
        "category = 'Airplane'  # Pass in `None` to train on all categories.\n",
        "transform = T.Compose([\n",
        "    T.RandomTranslate(0.01),\n",
        "    T.RandomRotate(15, axis=0),\n",
        "    T.RandomRotate(15, axis=1),\n",
        "    T.RandomRotate(15, axis=2)\n",
        "])\n",
        "pre_transform = T.NormalizeScale()\n",
        "train_dataset = ShapeNet(path, category, split='trainval', transform=transform,\n",
        "                         pre_transform=pre_transform)\n",
        "test_dataset = ShapeNet(path, category, split='test',\n",
        "                        pre_transform=pre_transform)\n",
        "train_loader = DataLoader(train_dataset, batch_size=10, shuffle=True,\n",
        "                          num_workers=6)\n",
        "test_loader = DataLoader(test_dataset, batch_size=10, shuffle=False,\n",
        "                         num_workers=6)"
      ],
      "metadata": {
        "id": "rZA6pzc9LDga",
        "colab": {
          "base_uri": "https://localhost:8080/"
        },
        "outputId": "4d52c9d4-79b5-4c42-9736-02a9d2af29ff"
      },
      "execution_count": 6,
      "outputs": [
        {
          "output_type": "stream",
          "name": "stderr",
          "text": [
            "Downloading https://shapenet.cs.stanford.edu/media/shapenetcore_partanno_segmentation_benchmark_v0_normal.zip\n",
            "Extracting /content/drive/MyDrive/datasets/ShapeNet/shapenetcore_partanno_segmentation_benchmark_v0_normal.zip\n",
            "Processing...\n",
            "Done!\n",
            "/usr/local/lib/python3.7/dist-packages/torch/utils/data/dataloader.py:490: UserWarning: This DataLoader will create 6 worker processes in total. Our suggested max number of worker in current system is 2, which is smaller than what this DataLoader is going to create. Please be aware that excessive worker creation might get DataLoader running slow or even freeze, lower the worker number to avoid potential slowness/freeze if necessary.\n",
            "  cpuset_checked))\n"
          ]
        }
      ]
    },
    {
      "cell_type": "code",
      "source": [
        "meta_colors = [\n",
        "        {\"label\": \"airplane_body\",\"id\": 0,\"color\": [152,223,138]},\n",
        "        {\"label\": \"airplane_wings\",\"id\": 1,\"color\": [174,199,232]},\n",
        "        {\"label\": \"airplane_tail\",\"id\": 2,\"color\": [255,105,180]},\n",
        "        {\"label\": \"airplane_engine\",\"id\": 3,\"color\": [31,119,180]},\n",
        "        {\"label\": \"bag_handle\",\"id\": 4,\"color\": [255,187,120]},\n",
        "        {\"label\": \"bag_body\",\"id\": 5,\"color\": [188,189,34]},\n",
        "        {\"label\": \"cap_peak\",\"id\": 6,\"color\": [140,86,75]},\n",
        "        {\"label\": \"cap_panel\",\"id\": 7,\"color\": [255,152,150]},\n",
        "        {\"label\": \"car_roof\",\"id\": 8,\"color\": [214,39,40]},\n",
        "        {\"label\": \"car_hood\",\"id\": 9,\"color\": [197,176,213]},\n",
        "        {\"label\": \"car_wheels\",\"id\": 10,\"color\": [148,103,189]},\n",
        "        {\"label\": \"car_body\",\"id\": 11,\"color\": [196,156,148]},\n",
        "        {\"label\": \"chair_back\",\"id\": 12,\"color\": [23,190,207]},\n",
        "        {\"label\": \"chair_seat\",\"id\": 13,\"color\": [186,85,211]},\n",
        "        {\"label\": \"chair_leg\",\"id\": 14,\"color\": [247,182,210]},\n",
        "        {\"label\": \"chair_arm\",\"id\": 15,\"color\": [66,188,102]},\n",
        "        {\"label\": \"earphone_earphone\",\"id\": 16,\"color\": [219,219,141]},\n",
        "        {\"label\": \"earphone_headband\",\"id\": 17,\"color\": [140,57,197]},\n",
        "        {\"label\": \"earphone_microphone\",\"id\": 18,\"color\": [202,185,52]},\n",
        "        {\"label\": \"guitar_head\",\"id\": 19,\"color\": [213,92,176]},\n",
        "        {\"label\": \"guitar_neck\",\"id\": 20,\"color\": [200,54,131]},\n",
        "        {\"label\": \"guitar_body\",\"id\": 21,\"color\": [92,193,61]},\n",
        "        {\"label\": \"knife_blade\",\"id\": 22,\"color\": [78,71,183]},\n",
        "        {\"label\": \"knife_handle\",\"id\": 23,\"color\": [172,114,82]},\n",
        "        {\"label\": \"lamp_base\",\"id\": 24,\"color\": [255,127,14]},\n",
        "        {\"label\": \"lamp_shape\",\"id\": 25,\"color\": [91,163,138]},\n",
        "        {\"label\": \"lamp_ceiling\",\"id\": 26,\"color\": [153,98,156]},\n",
        "        {\"label\": \"lamp_tube\",\"id\": 27,\"color\": [140,153,101]},\n",
        "        {\"label\": \"laptop_keyboard\",\"id\": 28,\"color\": [158,218,229]},\n",
        "        {\"label\": \"laptop_screen\",\"id\": 29,\"color\": [100,125,154]},\n",
        "        {\"label\": \"motorbike_gastank\",\"id\": 30,\"color\": [178,127,135]},\n",
        "        {\"label\": \"motorbike_seat\",\"id\": 31,\"color\": [120,185,128]},\n",
        "        {\"label\": \"motorbike_wheel\",\"id\": 32,\"color\": [146,111,194]},\n",
        "        {\"label\": \"motorbike_handle\",\"id\": 33,\"color\": [44,160,44]},\n",
        "        {\"label\": \"motorbike_light\",\"id\": 34,\"color\": [112,128,144]},\n",
        "        {\"label\": \"motorbike_body\",\"id\": 35,\"color\": [96,207,209]},\n",
        "        {\"label\": \"mug_handle\",\"id\": 36,\"color\": [227,119,194]},\n",
        "        {\"label\": \"mug_body\",\"id\": 37,\"color\": [51,176,203]},\n",
        "        {\"label\": \"pistol_barrel\",\"id\": 38,\"color\": [94,106,211]},\n",
        "        {\"label\": \"pistol_handle\",\"id\": 39,\"color\": [82,84,163]},\n",
        "        {\"label\": \"pistol_trigger\",\"id\": 40,\"color\": [100,85,144]},\n",
        "        {\"label\": \"rocket_body\",\"id\": 41,\"color\": [255,127,80]},\n",
        "        {\"label\": \"rocket_fin\",\"id\": 42,\"color\": [0,100,0]},\n",
        "        {\"label\": \"rocket_nose\",\"id\": 43,\"color\": [173,255,47]},\n",
        "        {\"label\": \"skateboard_wheel\",\"id\": 44,\"color\": [64,224,208]},\n",
        "        {\"label\": \"skateboard_deck\",\"id\": 45,\"color\": [0,255,255]},\n",
        "        {\"label\": \"skateboard_bearing\",\"id\": 46,\"color\": [25,25,112]},\n",
        "        {\"label\": \"table_top\",\"id\": 47,\"color\": [178,76,76]},\n",
        "        {\"label\": \"table_leg\",\"id\": 48,\"color\": [255,0,255]},\n",
        "        {\"label\": \"table_drawer\",\"id\": 49,\"color\": [152,223,138]}\n",
        "]\n",
        "\n",
        "id2color = {}\n",
        "for ix in meta_colors:\n",
        "    id2color[ix[\"id\"]] = ix[\"color\"]\n",
        "\n",
        "print(id2color)"
      ],
      "metadata": {
        "colab": {
          "base_uri": "https://localhost:8080/"
        },
        "id": "4ZnxvYkXILfn",
        "outputId": "0a02a552-0d25-4cf3-ea99-33672f32907d"
      },
      "execution_count": 7,
      "outputs": [
        {
          "output_type": "stream",
          "name": "stdout",
          "text": [
            "{0: [152, 223, 138], 1: [174, 199, 232], 2: [255, 105, 180], 3: [31, 119, 180], 4: [255, 187, 120], 5: [188, 189, 34], 6: [140, 86, 75], 7: [255, 152, 150], 8: [214, 39, 40], 9: [197, 176, 213], 10: [148, 103, 189], 11: [196, 156, 148], 12: [23, 190, 207], 13: [186, 85, 211], 14: [247, 182, 210], 15: [66, 188, 102], 16: [219, 219, 141], 17: [140, 57, 197], 18: [202, 185, 52], 19: [213, 92, 176], 20: [200, 54, 131], 21: [92, 193, 61], 22: [78, 71, 183], 23: [172, 114, 82], 24: [255, 127, 14], 25: [91, 163, 138], 26: [153, 98, 156], 27: [140, 153, 101], 28: [158, 218, 229], 29: [100, 125, 154], 30: [178, 127, 135], 31: [120, 185, 128], 32: [146, 111, 194], 33: [44, 160, 44], 34: [112, 128, 144], 35: [96, 207, 209], 36: [227, 119, 194], 37: [51, 176, 203], 38: [94, 106, 211], 39: [82, 84, 163], 40: [100, 85, 144], 41: [255, 127, 80], 42: [0, 100, 0], 43: [173, 255, 47], 44: [64, 224, 208], 45: [0, 255, 255], 46: [25, 25, 112], 47: [178, 76, 76], 48: [255, 0, 255], 49: [152, 223, 138]}\n"
          ]
        }
      ]
    },
    {
      "cell_type": "markdown",
      "source": [
        "## Data Explore"
      ],
      "metadata": {
        "id": "D_xBmCqkGete"
      }
    },
    {
      "cell_type": "code",
      "source": [
        "def visualize_pc(points, color=False, distance=False):\n",
        "    norm = mpl.colors.Normalize(vmin=0, vmax=1.5)\n",
        "    cmap = cm.hsv\n",
        "    dist = np.sqrt(np.sum((points - points.mean())**2, 1))\n",
        "    m = cm.ScalarMappable(norm=norm, cmap=cmap)\n",
        "    cols = m.to_rgba(dist)\n",
        "\n",
        "    ipv.figure()\n",
        "    if isinstance(color, np.ndarray):\n",
        "        ipv.scatter(points[:, 0], points[:, 1], points[:, 2], marker='sphere', color=color)\n",
        "    elif distance==True:\n",
        "        ipv.scatter(points[:, 0], points[:, 1], points[:, 2], marker='sphere', color=cols)\n",
        "    else:\n",
        "        ipv.scatter(points[:, 0], points[:, 1], points[:, 2], marker='sphere', color='blue')\n",
        "    ipv.show()"
      ],
      "metadata": {
        "id": "A339HvHfKC9P"
      },
      "execution_count": 8,
      "outputs": []
    },
    {
      "cell_type": "code",
      "source": [
        "label = train_dataset[0].y.data.numpy()\n",
        "points = train_dataset[0].pos.data.numpy()\n",
        "\n",
        "colors = np.ones((label.shape[0], 4))\n",
        "colors[:, :3] = np.array([id2color[cx] for cx in label])/255.0\n"
      ],
      "metadata": {
        "id": "nKmNBKTuGg3A"
      },
      "execution_count": 9,
      "outputs": []
    },
    {
      "cell_type": "code",
      "source": [
        "colors.shape"
      ],
      "metadata": {
        "colab": {
          "base_uri": "https://localhost:8080/"
        },
        "id": "36DB5s3MKbDf",
        "outputId": "485d7a33-fafd-456e-e450-a561792866f8"
      },
      "execution_count": 10,
      "outputs": [
        {
          "output_type": "execute_result",
          "data": {
            "text/plain": [
              "(2518, 4)"
            ]
          },
          "metadata": {},
          "execution_count": 10
        }
      ]
    },
    {
      "cell_type": "code",
      "source": [
        "visualize_pc(points, colors)"
      ],
      "metadata": {
        "colab": {
          "base_uri": "https://localhost:8080/",
          "height": 542,
          "referenced_widgets": [
            "468fc7c929bd4e4b8c76f62cebbb5edf",
            "a4a91323f7de4705a62657c70aa6f5af",
            "31e764c06bc449188d60e0d4644ae2d7",
            "8b46a1b00190478eb4c4fdf0c74e3f32",
            "c5323e35f9b846129a396aad203d9bf1",
            "cd754bba19e045b8a1de3bd7676759c0",
            "035dc834d9a043078e01f04b6f547bdd",
            "fd2229d69d0c40ddacc79dd36384a29b",
            "88f06ac6c9864b10b7982c32a11cf992"
          ]
        },
        "id": "cRHtOzusGg0J",
        "outputId": "c0e1f56e-a8b3-4fd1-fa5d-66e536a4b2c4"
      },
      "execution_count": 11,
      "outputs": [
        {
          "output_type": "display_data",
          "data": {
            "text/plain": [
              "VBox(children=(Figure(camera=PerspectiveCamera(fov=46.0, position=(0.0, 0.0, 2.0), projectionMatrix=(1.0, 0.0,…"
            ],
            "application/vnd.jupyter.widget-view+json": {
              "version_major": 2,
              "version_minor": 0,
              "model_id": "468fc7c929bd4e4b8c76f62cebbb5edf"
            }
          },
          "metadata": {
            "application/vnd.jupyter.widget-view+json": {
              "colab": {
                "custom_widget_manager": {
                  "url": "https://ssl.gstatic.com/colaboratory-static/widgets/colab-cdn-widget-manager/a8874ba6619b6106/manager.min.js"
                }
              }
            }
          }
        }
      ]
    },
    {
      "cell_type": "code",
      "source": [
        ""
      ],
      "metadata": {
        "id": "Nk7VLEHYGgx4"
      },
      "execution_count": null,
      "outputs": []
    },
    {
      "cell_type": "markdown",
      "source": [
        "# Net"
      ],
      "metadata": {
        "id": "sE2TXJGwFsxi"
      }
    },
    {
      "cell_type": "code",
      "source": [
        "class Net(torch.nn.Module):\n",
        "    def __init__(self, out_channels, k=30, aggr='max'):\n",
        "        super().__init__()\n",
        "\n",
        "        self.conv1 = DynamicEdgeConv(MLP([2 * 6, 64, 64]), k, aggr)\n",
        "        self.conv2 = DynamicEdgeConv(MLP([2 * 64, 64, 64]), k, aggr)\n",
        "        self.conv3 = DynamicEdgeConv(MLP([2 * 64, 64, 64]), k, aggr)\n",
        "\n",
        "        self.mlp = MLP([3 * 64, 1024, 256, 128, out_channels], dropout=0.5,\n",
        "                       batch_norm=False)\n",
        "\n",
        "    def forward(self, data):\n",
        "        x, pos, batch = data.x, data.pos, data.batch\n",
        "        x0 = torch.cat([x, pos], dim=-1)\n",
        "        x1 = self.conv1(x0, batch)\n",
        "        x2 = self.conv2(x1, batch)\n",
        "        x3 = self.conv3(x2, batch)\n",
        "        out = self.mlp(torch.cat([x1, x2, x3], dim=1))\n",
        "        return F.log_softmax(out, dim=1)"
      ],
      "metadata": {
        "id": "MnkTf4--Fsbr"
      },
      "execution_count": 12,
      "outputs": []
    },
    {
      "cell_type": "code",
      "source": [
        "device = torch.device('cuda' if torch.cuda.is_available() else 'cpu')\n",
        "model = Net(train_dataset.num_classes, k=30).to(device)\n",
        "optimizer = torch.optim.Adam(model.parameters(), lr=0.001)\n",
        "scheduler = torch.optim.lr_scheduler.StepLR(optimizer, step_size=20, gamma=0.8)"
      ],
      "metadata": {
        "id": "r0AsUxmZF4ex"
      },
      "execution_count": 13,
      "outputs": []
    },
    {
      "cell_type": "code",
      "source": [
        "def train():\n",
        "    model.train()\n",
        "\n",
        "    total_loss = correct_nodes = total_nodes = 0\n",
        "    for i, data in enumerate(train_loader):\n",
        "        data = data.to(device)\n",
        "        optimizer.zero_grad()\n",
        "        out = model(data)\n",
        "        loss = F.nll_loss(out, data.y)\n",
        "        loss.backward()\n",
        "        optimizer.step()\n",
        "        total_loss += loss.item()\n",
        "        correct_nodes += out.argmax(dim=1).eq(data.y).sum().item()\n",
        "        total_nodes += data.num_nodes\n",
        "\n",
        "        if (i + 1) % 10 == 0:\n",
        "            print(f'[{i+1}/{len(train_loader)}] Loss: {total_loss / 10:.4f} '\n",
        "                  f'Train Acc: {correct_nodes / total_nodes:.4f}')\n",
        "            total_loss = correct_nodes = total_nodes = 0"
      ],
      "metadata": {
        "id": "pHEwssijF8h6"
      },
      "execution_count": 14,
      "outputs": []
    },
    {
      "cell_type": "code",
      "source": [
        "@torch.no_grad()\n",
        "def test(loader):\n",
        "    model.eval()\n",
        "\n",
        "    ious, categories = [], []\n",
        "    y_map = torch.empty(loader.dataset.num_classes, device=device).long()\n",
        "    for data in loader:\n",
        "        data = data.to(device)\n",
        "        outs = model(data)\n",
        "\n",
        "        sizes = (data.ptr[1:] - data.ptr[:-1]).tolist()\n",
        "        for out, y, category in zip(outs.split(sizes), data.y.split(sizes),\n",
        "                                    data.category.tolist()):\n",
        "            category = list(ShapeNet.seg_classes.keys())[category]\n",
        "            part = ShapeNet.seg_classes[category]\n",
        "            part = torch.tensor(part, device=device)\n",
        "\n",
        "            y_map[part] = torch.arange(part.size(0), device=device)\n",
        "\n",
        "            iou = jaccard_index(out[:, part].argmax(dim=-1), y_map[y],\n",
        "                                num_classes=part.size(0), absent_score=1.0)\n",
        "            ious.append(iou)\n",
        "\n",
        "        categories.append(data.category)\n",
        "\n",
        "    iou = torch.tensor(ious, device=device)\n",
        "    category = torch.cat(categories, dim=0)\n",
        "\n",
        "    mean_iou = scatter(iou, category, reduce='mean')  # Per-category IoU.\n",
        "    return float(mean_iou.mean())  # Global IoU."
      ],
      "metadata": {
        "id": "9mi1RWNeF9gh"
      },
      "execution_count": 15,
      "outputs": []
    },
    {
      "cell_type": "code",
      "source": [
        "for epoch in range(1, 31):\n",
        "    train()\n",
        "    iou = test(test_loader)\n",
        "    print(f'Epoch: {epoch:02d}, Test IoU: {iou:.4f}')"
      ],
      "metadata": {
        "colab": {
          "base_uri": "https://localhost:8080/"
        },
        "id": "QquGc725F9dw",
        "outputId": "d6d3e519-5089-495b-da09-93ecf1b29eb2"
      },
      "execution_count": null,
      "outputs": [
        {
          "metadata": {
            "tags": null
          },
          "name": "stderr",
          "output_type": "stream",
          "text": [
            "/usr/local/lib/python3.7/dist-packages/torch/utils/data/dataloader.py:490: UserWarning: This DataLoader will create 6 worker processes in total. Our suggested max number of worker in current system is 2, which is smaller than what this DataLoader is going to create. Please be aware that excessive worker creation might get DataLoader running slow or even freeze, lower the worker number to avoid potential slowness/freeze if necessary.\n",
            "  cpuset_checked))\n"
          ]
        },
        {
          "output_type": "stream",
          "name": "stdout",
          "text": [
            "[10/235] Loss: 2.7290 Train Acc: 0.3737\n",
            "[20/235] Loss: 1.3725 Train Acc: 0.4459\n",
            "[30/235] Loss: 0.9439 Train Acc: 0.6337\n",
            "[40/235] Loss: 0.6918 Train Acc: 0.7330\n",
            "[50/235] Loss: 0.5618 Train Acc: 0.7907\n",
            "[60/235] Loss: 0.5103 Train Acc: 0.8070\n",
            "[70/235] Loss: 0.4450 Train Acc: 0.8323\n",
            "[80/235] Loss: 0.4338 Train Acc: 0.8373\n",
            "[90/235] Loss: 0.4398 Train Acc: 0.8407\n",
            "[100/235] Loss: 0.4008 Train Acc: 0.8544\n",
            "[110/235] Loss: 0.3445 Train Acc: 0.8748\n",
            "[120/235] Loss: 0.3779 Train Acc: 0.8662\n",
            "[130/235] Loss: 0.3966 Train Acc: 0.8591\n",
            "[140/235] Loss: 0.3591 Train Acc: 0.8757\n",
            "[150/235] Loss: 0.3577 Train Acc: 0.8744\n",
            "[160/235] Loss: 0.3654 Train Acc: 0.8766\n",
            "[170/235] Loss: 0.3482 Train Acc: 0.8762\n",
            "[180/235] Loss: 0.3375 Train Acc: 0.8815\n",
            "[190/235] Loss: 0.3250 Train Acc: 0.8848\n",
            "[200/235] Loss: 0.3228 Train Acc: 0.8832\n",
            "[210/235] Loss: 0.3067 Train Acc: 0.8901\n",
            "[220/235] Loss: 0.3746 Train Acc: 0.8691\n",
            "[230/235] Loss: 0.3164 Train Acc: 0.8879\n",
            "Epoch: 01, Test IoU: 0.6779\n",
            "[10/235] Loss: 0.3135 Train Acc: 0.8902\n",
            "[20/235] Loss: 0.3184 Train Acc: 0.8858\n",
            "[30/235] Loss: 0.4027 Train Acc: 0.8705\n",
            "[40/235] Loss: 0.3614 Train Acc: 0.8808\n",
            "[50/235] Loss: 0.3128 Train Acc: 0.8919\n",
            "[60/235] Loss: 0.3281 Train Acc: 0.8827\n",
            "[70/235] Loss: 0.2808 Train Acc: 0.9023\n",
            "[80/235] Loss: 0.2829 Train Acc: 0.9002\n",
            "[90/235] Loss: 0.3006 Train Acc: 0.8934\n",
            "[100/235] Loss: 0.3187 Train Acc: 0.8812\n",
            "[110/235] Loss: 0.3080 Train Acc: 0.8927\n",
            "[120/235] Loss: 0.2810 Train Acc: 0.9008\n",
            "[130/235] Loss: 0.2842 Train Acc: 0.8953\n",
            "[140/235] Loss: 0.3001 Train Acc: 0.8915\n",
            "[150/235] Loss: 0.2902 Train Acc: 0.8946\n",
            "[160/235] Loss: 0.3111 Train Acc: 0.8882\n",
            "[170/235] Loss: 0.3003 Train Acc: 0.8911\n",
            "[180/235] Loss: 0.2676 Train Acc: 0.9050\n",
            "[190/235] Loss: 0.2965 Train Acc: 0.8943\n",
            "[200/235] Loss: 0.3065 Train Acc: 0.8948\n",
            "[210/235] Loss: 0.2901 Train Acc: 0.8973\n",
            "[220/235] Loss: 0.2861 Train Acc: 0.8960\n",
            "[230/235] Loss: 0.2705 Train Acc: 0.9033\n",
            "Epoch: 02, Test IoU: 0.7086\n",
            "[10/235] Loss: 0.2856 Train Acc: 0.8980\n",
            "[20/235] Loss: 0.2780 Train Acc: 0.9025\n",
            "[30/235] Loss: 0.3253 Train Acc: 0.8866\n",
            "[40/235] Loss: 0.2691 Train Acc: 0.9013\n",
            "[50/235] Loss: 0.2804 Train Acc: 0.8982\n",
            "[60/235] Loss: 0.2641 Train Acc: 0.9039\n",
            "[70/235] Loss: 0.2826 Train Acc: 0.9012\n",
            "[80/235] Loss: 0.2814 Train Acc: 0.8979\n",
            "[90/235] Loss: 0.2755 Train Acc: 0.9048\n",
            "[100/235] Loss: 0.2929 Train Acc: 0.9002\n",
            "[110/235] Loss: 0.2879 Train Acc: 0.8973\n",
            "[120/235] Loss: 0.2683 Train Acc: 0.9103\n",
            "[130/235] Loss: 0.2704 Train Acc: 0.9060\n",
            "[140/235] Loss: 0.3214 Train Acc: 0.8937\n",
            "[150/235] Loss: 0.2730 Train Acc: 0.8981\n",
            "[160/235] Loss: 0.2411 Train Acc: 0.9124\n",
            "[170/235] Loss: 0.2746 Train Acc: 0.8999\n",
            "[180/235] Loss: 0.2813 Train Acc: 0.8975\n",
            "[190/235] Loss: 0.3176 Train Acc: 0.8858\n",
            "[200/235] Loss: 0.2518 Train Acc: 0.9090\n",
            "[210/235] Loss: 0.2647 Train Acc: 0.9040\n",
            "[220/235] Loss: 0.2608 Train Acc: 0.9077\n",
            "[230/235] Loss: 0.2412 Train Acc: 0.9105\n",
            "Epoch: 03, Test IoU: 0.7235\n",
            "[10/235] Loss: 0.2532 Train Acc: 0.9069\n",
            "[20/235] Loss: 0.2715 Train Acc: 0.9049\n",
            "[30/235] Loss: 0.2835 Train Acc: 0.8954\n",
            "[40/235] Loss: 0.2816 Train Acc: 0.9005\n",
            "[50/235] Loss: 0.2417 Train Acc: 0.9117\n",
            "[60/235] Loss: 0.2787 Train Acc: 0.8994\n",
            "[70/235] Loss: 0.2572 Train Acc: 0.9068\n",
            "[80/235] Loss: 0.2828 Train Acc: 0.8987\n",
            "[90/235] Loss: 0.2440 Train Acc: 0.9068\n",
            "[100/235] Loss: 0.2742 Train Acc: 0.9013\n",
            "[110/235] Loss: 0.3024 Train Acc: 0.8967\n",
            "[120/235] Loss: 0.2570 Train Acc: 0.9045\n",
            "[130/235] Loss: 0.2453 Train Acc: 0.9084\n",
            "[140/235] Loss: 0.2602 Train Acc: 0.9030\n",
            "[150/235] Loss: 0.2961 Train Acc: 0.8975\n",
            "[160/235] Loss: 0.2537 Train Acc: 0.9074\n",
            "[170/235] Loss: 0.2792 Train Acc: 0.9035\n",
            "[180/235] Loss: 0.2790 Train Acc: 0.9055\n",
            "[190/235] Loss: 0.2456 Train Acc: 0.9098\n",
            "[200/235] Loss: 0.2446 Train Acc: 0.9125\n",
            "[210/235] Loss: 0.2866 Train Acc: 0.9024\n",
            "[220/235] Loss: 0.2440 Train Acc: 0.9085\n",
            "[230/235] Loss: 0.2648 Train Acc: 0.9050\n",
            "Epoch: 04, Test IoU: 0.7281\n",
            "[10/235] Loss: 0.2765 Train Acc: 0.9035\n",
            "[20/235] Loss: 0.2990 Train Acc: 0.8944\n",
            "[30/235] Loss: 0.2502 Train Acc: 0.9115\n",
            "[40/235] Loss: 0.2506 Train Acc: 0.9069\n",
            "[50/235] Loss: 0.2472 Train Acc: 0.9108\n",
            "[60/235] Loss: 0.2731 Train Acc: 0.9009\n",
            "[70/235] Loss: 0.2417 Train Acc: 0.9100\n",
            "[80/235] Loss: 0.2671 Train Acc: 0.9062\n",
            "[90/235] Loss: 0.2801 Train Acc: 0.8956\n",
            "[100/235] Loss: 0.2370 Train Acc: 0.9122\n",
            "[110/235] Loss: 0.2392 Train Acc: 0.9106\n",
            "[120/235] Loss: 0.2543 Train Acc: 0.9098\n",
            "[130/235] Loss: 0.2285 Train Acc: 0.9172\n",
            "[140/235] Loss: 0.2589 Train Acc: 0.9065\n",
            "[150/235] Loss: 0.2780 Train Acc: 0.9067\n",
            "[160/235] Loss: 0.2544 Train Acc: 0.9063\n",
            "[170/235] Loss: 0.2798 Train Acc: 0.8999\n",
            "[180/235] Loss: 0.2418 Train Acc: 0.9109\n",
            "[190/235] Loss: 0.2553 Train Acc: 0.9078\n",
            "[200/235] Loss: 0.2662 Train Acc: 0.9003\n",
            "[210/235] Loss: 0.2471 Train Acc: 0.9037\n",
            "[220/235] Loss: 0.2618 Train Acc: 0.9064\n",
            "[230/235] Loss: 0.2972 Train Acc: 0.9030\n",
            "Epoch: 05, Test IoU: 0.7361\n",
            "[10/235] Loss: 0.2560 Train Acc: 0.9073\n",
            "[20/235] Loss: 0.2285 Train Acc: 0.9136\n",
            "[30/235] Loss: 0.2449 Train Acc: 0.9098\n",
            "[40/235] Loss: 0.2460 Train Acc: 0.9107\n",
            "[50/235] Loss: 0.2525 Train Acc: 0.9102\n",
            "[60/235] Loss: 0.2680 Train Acc: 0.9014\n",
            "[70/235] Loss: 0.2433 Train Acc: 0.9089\n",
            "[80/235] Loss: 0.2656 Train Acc: 0.9061\n",
            "[90/235] Loss: 0.2646 Train Acc: 0.9023\n",
            "[100/235] Loss: 0.2436 Train Acc: 0.9119\n",
            "[110/235] Loss: 0.2241 Train Acc: 0.9177\n",
            "[120/235] Loss: 0.2392 Train Acc: 0.9095\n",
            "[130/235] Loss: 0.2869 Train Acc: 0.9046\n",
            "[140/235] Loss: 0.2570 Train Acc: 0.9072\n",
            "[150/235] Loss: 0.2691 Train Acc: 0.9003\n",
            "[160/235] Loss: 0.2448 Train Acc: 0.9094\n",
            "[170/235] Loss: 0.2845 Train Acc: 0.8971\n",
            "[180/235] Loss: 0.2614 Train Acc: 0.9007\n",
            "[190/235] Loss: 0.2498 Train Acc: 0.9091\n",
            "[200/235] Loss: 0.2355 Train Acc: 0.9114\n",
            "[210/235] Loss: 0.2420 Train Acc: 0.9152\n",
            "[220/235] Loss: 0.2408 Train Acc: 0.9101\n",
            "[230/235] Loss: 0.2786 Train Acc: 0.9048\n",
            "Epoch: 06, Test IoU: 0.7244\n",
            "[10/235] Loss: 0.2294 Train Acc: 0.9150\n",
            "[20/235] Loss: 0.2442 Train Acc: 0.9116\n",
            "[30/235] Loss: 0.2531 Train Acc: 0.9103\n",
            "[40/235] Loss: 0.2555 Train Acc: 0.9086\n",
            "[50/235] Loss: 0.2404 Train Acc: 0.9130\n",
            "[60/235] Loss: 0.2678 Train Acc: 0.9013\n",
            "[70/235] Loss: 0.2652 Train Acc: 0.9048\n",
            "[80/235] Loss: 0.2660 Train Acc: 0.9038\n",
            "[90/235] Loss: 0.2653 Train Acc: 0.9050\n",
            "[100/235] Loss: 0.2521 Train Acc: 0.9072\n",
            "[110/235] Loss: 0.2380 Train Acc: 0.9105\n",
            "[120/235] Loss: 0.2276 Train Acc: 0.9168\n",
            "[130/235] Loss: 0.2457 Train Acc: 0.9157\n",
            "[140/235] Loss: 0.2247 Train Acc: 0.9180\n",
            "[150/235] Loss: 0.2443 Train Acc: 0.9100\n",
            "[160/235] Loss: 0.2301 Train Acc: 0.9103\n",
            "[170/235] Loss: 0.2866 Train Acc: 0.8908\n",
            "[180/235] Loss: 0.2253 Train Acc: 0.9161\n",
            "[190/235] Loss: 0.2279 Train Acc: 0.9129\n",
            "[200/235] Loss: 0.2375 Train Acc: 0.9071\n",
            "[210/235] Loss: 0.2742 Train Acc: 0.9017\n",
            "[220/235] Loss: 0.2498 Train Acc: 0.9107\n",
            "[230/235] Loss: 0.2336 Train Acc: 0.9131\n",
            "Epoch: 07, Test IoU: 0.7412\n",
            "[10/235] Loss: 0.2376 Train Acc: 0.9176\n",
            "[20/235] Loss: 0.2332 Train Acc: 0.9130\n",
            "[30/235] Loss: 0.2411 Train Acc: 0.9105\n",
            "[40/235] Loss: 0.2383 Train Acc: 0.9115\n",
            "[50/235] Loss: 0.2357 Train Acc: 0.9071\n",
            "[60/235] Loss: 0.2506 Train Acc: 0.9054\n",
            "[70/235] Loss: 0.2394 Train Acc: 0.9118\n",
            "[80/235] Loss: 0.2196 Train Acc: 0.9193\n",
            "[90/235] Loss: 0.2850 Train Acc: 0.9031\n",
            "[100/235] Loss: 0.2324 Train Acc: 0.9165\n",
            "[110/235] Loss: 0.2436 Train Acc: 0.9113\n",
            "[120/235] Loss: 0.2671 Train Acc: 0.9025\n",
            "[130/235] Loss: 0.2917 Train Acc: 0.8975\n",
            "[140/235] Loss: 0.2805 Train Acc: 0.9035\n",
            "[150/235] Loss: 0.2710 Train Acc: 0.9061\n",
            "[160/235] Loss: 0.2587 Train Acc: 0.9054\n",
            "[170/235] Loss: 0.2325 Train Acc: 0.9179\n",
            "[180/235] Loss: 0.2484 Train Acc: 0.9106\n",
            "[190/235] Loss: 0.2213 Train Acc: 0.9176\n",
            "[200/235] Loss: 0.2365 Train Acc: 0.9134\n",
            "[210/235] Loss: 0.2022 Train Acc: 0.9230\n",
            "[220/235] Loss: 0.2327 Train Acc: 0.9113\n",
            "[230/235] Loss: 0.2060 Train Acc: 0.9186\n",
            "Epoch: 08, Test IoU: 0.7383\n",
            "[10/235] Loss: 0.2216 Train Acc: 0.9137\n",
            "[20/235] Loss: 0.2561 Train Acc: 0.9035\n",
            "[30/235] Loss: 0.2384 Train Acc: 0.9106\n",
            "[40/235] Loss: 0.2189 Train Acc: 0.9191\n",
            "[50/235] Loss: 0.2426 Train Acc: 0.9120\n",
            "[60/235] Loss: 0.2777 Train Acc: 0.9039\n",
            "[70/235] Loss: 0.2580 Train Acc: 0.9098\n",
            "[80/235] Loss: 0.2243 Train Acc: 0.9161\n",
            "[90/235] Loss: 0.2519 Train Acc: 0.9124\n",
            "[100/235] Loss: 0.2282 Train Acc: 0.9161\n",
            "[110/235] Loss: 0.2237 Train Acc: 0.9159\n",
            "[120/235] Loss: 0.2325 Train Acc: 0.9119\n",
            "[130/235] Loss: 0.2311 Train Acc: 0.9129\n",
            "[140/235] Loss: 0.2254 Train Acc: 0.9142\n",
            "[150/235] Loss: 0.2347 Train Acc: 0.9155\n",
            "[160/235] Loss: 0.2415 Train Acc: 0.9094\n",
            "[170/235] Loss: 0.2768 Train Acc: 0.9017\n",
            "[180/235] Loss: 0.2412 Train Acc: 0.9110\n",
            "[190/235] Loss: 0.2535 Train Acc: 0.9053\n",
            "[200/235] Loss: 0.2635 Train Acc: 0.9082\n",
            "[210/235] Loss: 0.2186 Train Acc: 0.9206\n",
            "[220/235] Loss: 0.2231 Train Acc: 0.9174\n",
            "[230/235] Loss: 0.2324 Train Acc: 0.9104\n",
            "Epoch: 09, Test IoU: 0.7341\n",
            "[10/235] Loss: 0.2200 Train Acc: 0.9169\n",
            "[20/235] Loss: 0.2284 Train Acc: 0.9143\n",
            "[30/235] Loss: 0.2222 Train Acc: 0.9202\n",
            "[40/235] Loss: 0.2586 Train Acc: 0.9070\n",
            "[50/235] Loss: 0.2352 Train Acc: 0.9128\n",
            "[60/235] Loss: 0.2096 Train Acc: 0.9191\n",
            "[70/235] Loss: 0.2160 Train Acc: 0.9199\n",
            "[80/235] Loss: 0.2452 Train Acc: 0.9120\n",
            "[90/235] Loss: 0.2075 Train Acc: 0.9234\n",
            "[100/235] Loss: 0.2467 Train Acc: 0.9096\n",
            "[110/235] Loss: 0.2431 Train Acc: 0.9151\n",
            "[120/235] Loss: 0.2492 Train Acc: 0.9065\n",
            "[130/235] Loss: 0.2387 Train Acc: 0.9116\n",
            "[140/235] Loss: 0.2291 Train Acc: 0.9119\n",
            "[150/235] Loss: 0.2118 Train Acc: 0.9205\n",
            "[160/235] Loss: 0.2615 Train Acc: 0.9086\n",
            "[170/235] Loss: 0.2188 Train Acc: 0.9189\n",
            "[180/235] Loss: 0.2334 Train Acc: 0.9133\n",
            "[190/235] Loss: 0.2659 Train Acc: 0.9001\n",
            "[200/235] Loss: 0.2604 Train Acc: 0.9099\n",
            "[210/235] Loss: 0.2268 Train Acc: 0.9145\n",
            "[220/235] Loss: 0.2461 Train Acc: 0.9101\n",
            "[230/235] Loss: 0.2341 Train Acc: 0.9116\n",
            "Epoch: 10, Test IoU: 0.7284\n"
          ]
        }
      ]
    },
    {
      "cell_type": "code",
      "source": [
        "torch.save(model, os.path.join(data_root, \"trained_model_partseg_10epochs.pth\"))"
      ],
      "metadata": {
        "id": "ofFjl5N1GSfK"
      },
      "execution_count": null,
      "outputs": []
    },
    {
      "cell_type": "code",
      "source": [
        ""
      ],
      "metadata": {
        "id": "y8sMTxsEF9bR"
      },
      "execution_count": null,
      "outputs": []
    },
    {
      "cell_type": "code",
      "source": [
        ""
      ],
      "metadata": {
        "id": "mzMbeiTFF8fS"
      },
      "execution_count": null,
      "outputs": []
    }
  ]
}